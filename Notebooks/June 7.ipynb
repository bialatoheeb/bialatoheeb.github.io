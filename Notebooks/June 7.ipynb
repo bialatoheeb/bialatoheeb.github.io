{
 "cells": [
  {
   "cell_type": "markdown",
   "id": "374ee8e4",
   "metadata": {},
   "source": [
    "# Week 2"
   ]
  },
  {
   "cell_type": "markdown",
   "id": "b265b83f",
   "metadata": {},
   "source": [
    "### Outline of the day (Introduction to data types)\n",
    "\n",
    "1. Integers & Floats\n",
    "2. Assignments & Name Conventions\n",
    "3. Whitespaces & Comments\n",
    "4. Reference Semantics\n",
    "5. Sequence Types: Tuples, Lists & Strings\n",
    "6. Mutable and Immutable Objects\n",
    "7. Indexing (Positive & Negative) & slicing"
   ]
  },
  {
   "cell_type": "markdown",
   "id": "9eaebd51",
   "metadata": {},
   "source": [
    "### Integers and Floats"
   ]
  },
  {
   "cell_type": "markdown",
   "id": "e6f900eb",
   "metadata": {},
   "source": [
    "1. Integers are positive and negative whole numbers including zeros. Examples are 1, -2, 0, 100000000.\n",
    "2. Floats are used to define numeric values with floating point decimals. Exmples are 1.5, 0.7, 1.2637"
   ]
  },
  {
   "cell_type": "code",
   "execution_count": null,
   "id": "549560b7",
   "metadata": {},
   "outputs": [],
   "source": [
    "type(1)"
   ]
  },
  {
   "cell_type": "code",
   "execution_count": null,
   "id": "f7429dd8",
   "metadata": {},
   "outputs": [],
   "source": [
    "type(4)"
   ]
  },
  {
   "cell_type": "code",
   "execution_count": null,
   "id": "d03b4e9f",
   "metadata": {},
   "outputs": [],
   "source": [
    "type(5.4)"
   ]
  },
  {
   "cell_type": "code",
   "execution_count": null,
   "id": "9e2cd24d",
   "metadata": {},
   "outputs": [],
   "source": [
    "type(0.00000001)"
   ]
  },
  {
   "cell_type": "code",
   "execution_count": null,
   "id": "5f87e340",
   "metadata": {},
   "outputs": [],
   "source": [
    "type(-100000000000)"
   ]
  },
  {
   "cell_type": "code",
   "execution_count": null,
   "id": "94029ef2",
   "metadata": {},
   "outputs": [],
   "source": [
    "1 + 1"
   ]
  },
  {
   "cell_type": "code",
   "execution_count": null,
   "id": "2a0c60d9",
   "metadata": {},
   "outputs": [],
   "source": [
    "1 + 7"
   ]
  },
  {
   "cell_type": "code",
   "execution_count": null,
   "id": "f1623e79",
   "metadata": {},
   "outputs": [],
   "source": [
    "Ar = 1"
   ]
  },
  {
   "cell_type": "code",
   "execution_count": null,
   "id": "8920ccc4",
   "metadata": {},
   "outputs": [],
   "source": [
    "ar = 2\n",
    "aR = 3"
   ]
  },
  {
   "cell_type": "code",
   "execution_count": null,
   "id": "5052a41f",
   "metadata": {},
   "outputs": [],
   "source": [
    "print(Ar, ar, aR)"
   ]
  },
  {
   "cell_type": "code",
   "execution_count": null,
   "id": "da8a680a",
   "metadata": {},
   "outputs": [],
   "source": [
    "w12_rtyf = 10\n",
    "print(w12_rtyf)"
   ]
  },
  {
   "cell_type": "code",
   "execution_count": null,
   "id": "8180a09e",
   "metadata": {},
   "outputs": [],
   "source": [
    "we = 10\n",
    "print(we)"
   ]
  },
  {
   "cell_type": "code",
   "execution_count": null,
   "id": "6870cbbc",
   "metadata": {},
   "outputs": [],
   "source": [
    "in \n",
    "and\n",
    "or "
   ]
  },
  {
   "cell_type": "markdown",
   "id": "ffadd4f4",
   "metadata": {},
   "source": [
    "### Variables, Assignment & Name Conventions"
   ]
  },
  {
   "cell_type": "code",
   "execution_count": null,
   "id": "d5197ea4",
   "metadata": {},
   "outputs": [],
   "source": []
  },
  {
   "cell_type": "markdown",
   "id": "ba172d98",
   "metadata": {},
   "source": [
    "1. Variables are words used to store values of any data type. \n",
    "2. Naming Convetions:\n",
    "\n",
    "    a. case-sensitive and include alphanumeric values and underscores\n",
    "    \n",
    "    b. cannot begin with numbers\n",
    "    \n",
    "    c. cannot contain reserved terms\n",
    "    \n",
    "    d. The equality sign \"=\" is used to assign variables in python"
   ]
  },
  {
   "cell_type": "code",
   "execution_count": null,
   "id": "2a5cfe8b",
   "metadata": {},
   "outputs": [],
   "source": [
    "x = 2\n",
    "print(x)\n",
    "print(type(x))"
   ]
  },
  {
   "cell_type": "code",
   "execution_count": null,
   "id": "4ef1e5c4",
   "metadata": {},
   "outputs": [],
   "source": [
    "z_score = 8.9\n",
    "print(z_score)"
   ]
  },
  {
   "cell_type": "code",
   "execution_count": 1,
   "id": "c8832f1b",
   "metadata": {},
   "outputs": [
    {
     "name": "stdout",
     "output_type": "stream",
     "text": [
      "3 3 <class 'int'> <class 'int'>\n"
     ]
    }
   ],
   "source": [
    "x = y = 3\n",
    "print(x, y, type(x), type(y))"
   ]
  },
  {
   "cell_type": "code",
   "execution_count": null,
   "id": "ac5ab6e4",
   "metadata": {},
   "outputs": [],
   "source": [
    "y=4\n",
    "print(x, y, type(x), type(y))"
   ]
  },
  {
   "cell_type": "code",
   "execution_count": null,
   "id": "32bf1541",
   "metadata": {},
   "outputs": [],
   "source": [
    "x, y, z = 10, -8, 9.8"
   ]
  },
  {
   "cell_type": "code",
   "execution_count": null,
   "id": "f4225955",
   "metadata": {},
   "outputs": [],
   "source": [
    "print(x, y, z)"
   ]
  },
  {
   "cell_type": "code",
   "execution_count": null,
   "id": "f476f960",
   "metadata": {},
   "outputs": [],
   "source": [
    "CONSTANT = 10\n",
    "print(type(CONSTANT))"
   ]
  },
  {
   "cell_type": "code",
   "execution_count": null,
   "id": "232e1079",
   "metadata": {},
   "outputs": [],
   "source": []
  },
  {
   "cell_type": "code",
   "execution_count": null,
   "id": "05eb892d",
   "metadata": {},
   "outputs": [],
   "source": []
  }
 ],
 "metadata": {
  "kernelspec": {
   "display_name": "Python 3 (ipykernel)",
   "language": "python",
   "name": "python3"
  },
  "language_info": {
   "codemirror_mode": {
    "name": "ipython",
    "version": 3
   },
   "file_extension": ".py",
   "mimetype": "text/x-python",
   "name": "python",
   "nbconvert_exporter": "python",
   "pygments_lexer": "ipython3",
   "version": "3.9.7"
  }
 },
 "nbformat": 4,
 "nbformat_minor": 5
}
