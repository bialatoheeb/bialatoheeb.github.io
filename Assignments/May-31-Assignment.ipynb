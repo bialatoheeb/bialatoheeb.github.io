{
 "cells": [
  {
   "cell_type": "markdown",
   "id": "51aca03a",
   "metadata": {},
   "source": [
    "# Assignment"
   ]
  },
  {
   "cell_type": "markdown",
   "id": "30550ca1",
   "metadata": {},
   "source": [
    "1. Write a pseudocode for cooking rice\n"
   ]
  },
  {
   "cell_type": "code",
   "execution_count": null,
   "id": "22d1bee4",
   "metadata": {},
   "outputs": [],
   "source": [
    "## Write your solution here \n",
    "\n",
    "\n",
    "\n"
   ]
  },
  {
   "cell_type": "markdown",
   "id": "f8a24a55",
   "metadata": {},
   "source": [
    "2. Give other python editors aprt from those given in the lecture notebook"
   ]
  },
  {
   "cell_type": "code",
   "execution_count": null,
   "id": "216ca5d8",
   "metadata": {},
   "outputs": [],
   "source": [
    "## Write your solution here \n",
    "\n"
   ]
  },
  {
   "cell_type": "markdown",
   "id": "e324507e",
   "metadata": {},
   "source": [
    "3. What kinds of application would like to develop at the end of this course?\n"
   ]
  },
  {
   "cell_type": "code",
   "execution_count": null,
   "id": "92b6112b",
   "metadata": {},
   "outputs": [],
   "source": [
    "## Write your solution here \n",
    "\n"
   ]
  },
  {
   "cell_type": "markdown",
   "id": "2d6010fa",
   "metadata": {},
   "source": [
    "4. Write a python program to print your name, date of birth and gender\n"
   ]
  },
  {
   "cell_type": "code",
   "execution_count": null,
   "id": "858820d8",
   "metadata": {},
   "outputs": [],
   "source": [
    "## Write your solution here \n",
    "\n"
   ]
  },
  {
   "cell_type": "markdown",
   "id": "bd170e0c",
   "metadata": {},
   "source": [
    "5. Write a pseudocode to calulate the average age of \n",
    "\n",
    "      a. all male in a family\n",
    "      \n",
    "      b. all feamle in a family\n",
    "      \n",
    "      c. all members of any given family "
   ]
  },
  {
   "cell_type": "code",
   "execution_count": null,
   "id": "98530398",
   "metadata": {},
   "outputs": [],
   "source": [
    "## Write your solution here \n",
    "# a. \n",
    "\n",
    "\n",
    "\n",
    "\n"
   ]
  },
  {
   "cell_type": "code",
   "execution_count": null,
   "id": "1db3dd39",
   "metadata": {},
   "outputs": [],
   "source": [
    "## Write your solution here \n",
    "# b.\n",
    "\n",
    "\n",
    "\n",
    "\n",
    "\n"
   ]
  },
  {
   "cell_type": "code",
   "execution_count": null,
   "id": "60bd476e",
   "metadata": {},
   "outputs": [],
   "source": [
    "## Write your solution here \n",
    "# c.\n",
    "\n",
    "\n",
    "\n",
    "\n"
   ]
  },
  {
   "cell_type": "code",
   "execution_count": null,
   "id": "cf7d92e1",
   "metadata": {},
   "outputs": [],
   "source": []
  }
 ],
 "metadata": {
  "kernelspec": {
   "display_name": "Python 3 (ipykernel)",
   "language": "python",
   "name": "python3"
  },
  "language_info": {
   "codemirror_mode": {
    "name": "ipython",
    "version": 3
   },
   "file_extension": ".py",
   "mimetype": "text/x-python",
   "name": "python",
   "nbconvert_exporter": "python",
   "pygments_lexer": "ipython3",
   "version": "3.9.7"
  }
 },
 "nbformat": 4,
 "nbformat_minor": 5
}
